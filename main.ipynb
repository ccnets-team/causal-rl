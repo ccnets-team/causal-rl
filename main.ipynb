{
  "cells": [
    {
      "attachments": {},
      "cell_type": "markdown",
      "metadata": {},
      "source": [
        "RL TUNE\n",
        "==============\n",
        "DELAWARE INCORPORATION\n",
        "COPYRIGHT (c) 2022. CCNets, Inc. All Rights reserved.\n",
        "Author:\n",
        "PARK, JunHo"
      ]
    },
    {
      "cell_type": "code",
      "execution_count": null,
      "metadata": {},
      "outputs": [],
      "source": [
        "from __future__ import print_function\n",
        "\n",
        "from utils.setting.env_settings import analyze_env\n",
        "from utils.init import set_seed\n",
        "\n",
        "set_seed()\n",
        "ngpu = 2\n",
        "from torch.utils.tensorboard import SummaryWriter"
      ]
    },
    {
      "cell_type": "code",
      "execution_count": null,
      "metadata": {},
      "outputs": [],
      "source": [
        "import torch\n",
        "device = torch.device(\"cuda:0\" if (torch.cuda.is_available() and ngpu > 0) else \"cpu\")"
      ]
    },
    {
      "cell_type": "markdown",
      "metadata": {},
      "source": [
        "Available Environments: \n",
        "==============\n",
        "    OpenAI Gymnasium(MuJoCo):\n",
        "        \"HumanoidStandup-v4\"\n",
        "        \"Humanoid-v4\"\n",
        "        \"Ant-v4\"\n",
        "        \"Reacher-v4\"\n",
        "        \"Pusher-v4\"\n",
        "        \n",
        "    Unity MLAgents(download link: https://drive.google.com/drive/folders/1TGSfw7IgfmVZslvmqIDLr5jAneQpsVbb?usp=sharing):\n",
        "        locate the downloaded folder as below:\n",
        "        your_projects/\n",
        "            rl-tune/\n",
        "            unity_environments/\n",
        "        \"3DBallHard\"\n",
        "        \"Worm\"\n",
        "        \"Crawler\"\n",
        "        \"Walker\"\n",
        "        \"Hallway\"\n",
        "        \"PushBlock\"\n",
        "        \"Pyramids\""
      ]
    },
    {
      "cell_type": "code",
      "execution_count": null,
      "metadata": {},
      "outputs": [],
      "source": [
        "env_config, rl_params = analyze_env(env_name = \"HalfCheetah-v4\")"
      ]
    },
    {
      "cell_type": "markdown",
      "metadata": {},
      "source": [
        " If your processor is experiencing difficulties with CPU or GPU processing,\n",
        "\n",
        "     consider using a higher value for replay_ratio, perhaps more than 4, as shown below:\n",
        "\n",
        "     rl_params.training.replay_ratio = [specified higher replay ratio]\n",
        "\n",
        "     consider using a lower value for batch_size, perhaps less than 1024, as shown below:\n",
        "\n",
        "     rl_params.training.batch_size = [specified lower batch size]\n",
        "\n",
        " check more details: utils\\setting\\rl_params.py"
      ]
    },
    {
      "cell_type": "code",
      "execution_count": null,
      "metadata": {},
      "outputs": [],
      "source": [
        "from training.rl_trainer import RLTrainer  \n",
        "from rl_tune import RLTune\n",
        "\n",
        "trainer = RLTrainer(rl_params, trainer_name='causal_rl')  \n",
        "with RLTune(env_config, trainer, device, use_graphics = False, use_print = True) as rl_tune:\n",
        "    rl_tune.train(on_policy=False, resume_training = False)\n"
      ]
    },
    {
      "cell_type": "code",
      "execution_count": null,
      "metadata": {},
      "outputs": [],
      "source": [
        "with RLTune(env_config, trainer, device, use_graphics = True, use_print = False) as rl_tune:\n",
        "    rl_tune.test(max_episodes = 100)"
      ]
    }
  ],
  "metadata": {
    "kernelspec": {
      "display_name": "torch",
      "language": "python",
      "name": "python3"
    },
    "language_info": {
      "codemirror_mode": {
        "name": "ipython",
        "version": 3
      },
      "file_extension": ".py",
      "mimetype": "text/x-python",
      "name": "python",
      "nbconvert_exporter": "python",
      "pygments_lexer": "ipython3",
      "version": "3.9.13"
    },
    "metadata": {
      "interpreter": {
        "hash": "a7e81af88087f1f4bdc1f0426df14b24fa2673362c5daa7f7f9146748f40b3b1"
      }
    },
    "vscode": {
      "interpreter": {
        "hash": "c16dfff7ba1779372f0feb5f1d498cbfa6bad5ce8e2477d9f53bcebd19f9c321"
      }
    }
  },
  "nbformat": 4,
  "nbformat_minor": 2
}
