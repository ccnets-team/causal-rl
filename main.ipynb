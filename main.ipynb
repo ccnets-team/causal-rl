{
  "cells": [
    {
      "attachments": {},
      "cell_type": "markdown",
      "metadata": {},
      "source": [
        "RL TUNE\n",
        "==============\n",
        "DELAWARE INCORPORATION\n",
        "COPYRIGHT (c) 2022. CCNets, Inc. All Rights reserved.\n",
        "Author:\n",
        "PARK, JunHo"
      ]
    },
    {
      "cell_type": "code",
      "execution_count": 1,
      "metadata": {},
      "outputs": [],
      "source": [
        "from __future__ import print_function\n",
        "\n",
        "from utils.setting.env_settings import analyze_env\n",
        "from utils.init import set_seed\n",
        "\n",
        "set_seed()\n",
        "ngpu = 2\n",
        "from torch.utils.tensorboard import SummaryWriter"
      ]
    },
    {
      "cell_type": "code",
      "execution_count": 2,
      "metadata": {},
      "outputs": [],
      "source": [
        "import torch\n",
        "device = torch.device(\"cuda:0\" if (torch.cuda.is_available() and ngpu > 0) else \"cpu\")"
      ]
    },
    {
      "cell_type": "code",
      "execution_count": 3,
      "metadata": {},
      "outputs": [
        {
          "name": "stdout",
          "output_type": "stream",
          "text": [
            "Environment Specifications for HumanoidStandup-v4\n",
            "\n",
            "num_environments: 1, num_agents: 205, samples_per_step: 205\n",
            "state_size: 376, action_size: 17\n",
            "use_discrete: False\n",
            "\n"
          ]
        }
      ],
      "source": [
        "env_config, rl_params = analyze_env(env_name = \"HumanoidStandup-v4\")"
      ]
    },
    {
      "cell_type": "code",
      "execution_count": 4,
      "metadata": {},
      "outputs": [
        {
          "name": "stdout",
          "output_type": "stream",
          "text": [
            "Trainer Name: crl\n",
            "Training Parameters:\n",
            "replay_ratio: 5, train_frequency: 1, batch_size: 1024, \n",
            "\n",
            "Algorithm Parameters:\n",
            "discount_factor: 0.99, num_td_steps: 1, curiosity_factor: 0.1, use_gae_advantage: False, use_curiosity: False, \n",
            "\n",
            "Network Parameters:\n",
            "network: <class 'nn.super_net.SuperNet'>, num_layer: 4, hidden_size: 256, \n",
            "\n",
            "Optimization Parameters:\n",
            "beta1: 0.9, lr_gamma: 0.9998, step_size: 32, lr: 0.0003, tau: 0.005, \n",
            "\n",
            "Exploration Parameters:\n",
            "noise_type: ou, initial_exploration: 1.0, min_exploration: 0.01, decay_percentage: 0.8, decay_mode: linear, max_steps: 500000, use_deterministic_policy: False, \n",
            "\n",
            "Memory Parameters:\n",
            "buffer_type: standard, buffer_size: 1000000, \n",
            "\n",
            "Normalization Parameters:\n",
            "reward_scale: 0.01, reward_shift: 0, state_normalizer: running_z_standardizer, reward_normalizer: none, advantage_scaler: dynamic_scale, \n",
            "\n",
            "\n",
            "\n"
          ]
        },
        {
          "data": {
            "application/vnd.jupyter.widget-view+json": {
              "model_id": "8906f2e3f8ca46e193a53b81a72fcacf",
              "version_major": 2,
              "version_minor": 0
            },
            "text/plain": [
              "  0%|          | 0/500000 [00:00<?, ?it/s]"
            ]
          },
          "metadata": {},
          "output_type": "display_data"
        }
      ],
      "source": [
        "from training.rl_trainer import RLTrainer  \n",
        "from rl_tune import RLTune \n",
        "\n",
        "trainer = RLTrainer(rl_params, trainer_name='crl')  \n",
        "with RLTune(env_config, trainer, device, use_graphics = False, use_print = False) as rl_tune:\n",
        "    rl_tune.train(on_policy=False)"
      ]
    }
  ],
  "metadata": {
    "kernelspec": {
      "display_name": "torch",
      "language": "python",
      "name": "python3"
    },
    "language_info": {
      "codemirror_mode": {
        "name": "ipython",
        "version": 3
      },
      "file_extension": ".py",
      "mimetype": "text/x-python",
      "name": "python",
      "nbconvert_exporter": "python",
      "pygments_lexer": "ipython3",
      "version": "3.9.16"
    },
    "metadata": {
      "interpreter": {
        "hash": "a7e81af88087f1f4bdc1f0426df14b24fa2673362c5daa7f7f9146748f40b3b1"
      }
    },
    "vscode": {
      "interpreter": {
        "hash": "c16dfff7ba1779372f0feb5f1d498cbfa6bad5ce8e2477d9f53bcebd19f9c321"
      }
    }
  },
  "nbformat": 4,
  "nbformat_minor": 2
}
